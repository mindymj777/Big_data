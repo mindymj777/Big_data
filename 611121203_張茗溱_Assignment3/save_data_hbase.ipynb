{
 "cells": [
  {
   "cell_type": "code",
   "execution_count": 1,
   "id": "61d07701-e4f2-472c-8e6b-8c5e86a92bfd",
   "metadata": {},
   "outputs": [],
   "source": [
    "from pyspark.sql import SparkSession\n",
    "import happybase\n",
    "from pyspark import SparkContext\n",
    "import pandas as pd\n",
    "import json\n",
    "from urllib.request import urlopen\n",
    "import schedule\n",
    "\n",
    "spark = SparkSession.builder \\\n",
    "    .appName(\"HBaseExample\") \\\n",
    "    .getOrCreate()\n",
    "\n",
    "sc = SparkContext.getOrCreate()\n",
    "connection = happybase.Connection(host='localhost', port=9090)\n"
   ]
  },
  {
   "cell_type": "code",
   "execution_count": 2,
   "id": "4d9446cd-176a-4d58-9024-c6c432c77c4a",
   "metadata": {},
   "outputs": [],
   "source": [
    "# 指定表格名稱和列族名稱\n",
    "table_name = 'Youbike'\n",
    "column_family = 'info'\n",
    "\n",
    "# 創建一個表格（如果不存在的話）\n",
    "if table_name.encode() not in connection.tables():\n",
    "    connection.create_table(table_name, {column_family: dict()})"
   ]
  },
  {
   "cell_type": "code",
   "execution_count": 3,
   "id": "1735cf29-3440-46ab-a156-d4ba6b89b957",
   "metadata": {},
   "outputs": [],
   "source": [
    "#從台北youbike 平台抓取資料，並且寫入hbase\n",
    "def fetch_data():\n",
    "    spark = SparkSession.builder.getOrCreate()\n",
    "  \n",
    "    url = 'https://tcgbusfs.blob.core.windows.net/dotapp/youbike/v2/youbike_immediate.json'\n",
    "    jsonData = urlopen(url).read().decode('utf-8')\n",
    "    rdd = spark.sparkContext.parallelize([jsonData])\n",
    "    df = spark.read.json(rdd)\n",
    "    \n",
    "    data_dict = df.toJSON().map(lambda x: json.loads(x)).collect()\n",
    "    \n",
    "    connection = happybase.Connection(host='localhost', port=9090)\n",
    "    table = connection.table(table_name )\n",
    "    \n",
    "    # Iterate through the dictionary and put the data into HBase\n",
    "    for item in data_dict:\n",
    "        row_key = item['sno']\n",
    "        columns = {k: v for k, v in item.items() if k != 'sno'}\n",
    "        # Use the row_key as the HBase row key\n",
    "        row = table.row(row_key)\n",
    "        for column, value in columns.items():\n",
    "            # Put the data into the HBase table\n",
    "            column_name = f\"{column_family}:{column}\"\n",
    "            row[column_name] = str(value)\n",
    "    \n",
    "        table.put(row_key.encode('utf-8'), row)\n",
    "    print(\"Successful!!!\")\n"
   ]
  },
  {
   "cell_type": "markdown",
   "id": "e91f2213-7e04-4fba-80dc-9dd57f18da25",
   "metadata": {},
   "source": [
    "##### 每2分鐘抓取資料一次，共執行20分鐘"
   ]
  },
  {
   "cell_type": "code",
   "execution_count": 4,
   "id": "e6931bd0-e70e-435b-b8cd-cb11fa6e0432",
   "metadata": {},
   "outputs": [
    {
     "name": "stderr",
     "output_type": "stream",
     "text": [
      "                                                                                \r"
     ]
    },
    {
     "name": "stdout",
     "output_type": "stream",
     "text": [
      "Successful!!!\n",
      "Successful!!!\n",
      "Successful!!!\n",
      "Successful!!!\n",
      "Successful!!!\n",
      "Successful!!!\n",
      "Successful!!!\n",
      "Successful!!!\n",
      "Successful!!!\n"
     ]
    }
   ],
   "source": [
    "import time\n",
    "# Schedule the data fetching every 5 minutes\n",
    "schedule.every(2).minutes.do(fetch_data)\n",
    "\n",
    "# Run the scheduled tasks\n",
    "end_time = time.time() + 60 * 20\n",
    "\n",
    "# 執行排程\n",
    "while time.time() < end_time:\n",
    "    schedule.run_pending()\n",
    "    time.sleep(1)\n",
    "    "
   ]
  }
 ],
 "metadata": {
  "kernelspec": {
   "display_name": "Python 3 (ipykernel)",
   "language": "python",
   "name": "python3"
  },
  "language_info": {
   "codemirror_mode": {
    "name": "ipython",
    "version": 3
   },
   "file_extension": ".py",
   "mimetype": "text/x-python",
   "name": "python",
   "nbconvert_exporter": "python",
   "pygments_lexer": "ipython3",
   "version": "3.10.12"
  }
 },
 "nbformat": 4,
 "nbformat_minor": 5
}
